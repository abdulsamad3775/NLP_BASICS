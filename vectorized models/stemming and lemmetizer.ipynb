{
 "cells": [
  {
   "cell_type": "markdown",
   "id": "cf18136b",
   "metadata": {},
   "source": [
    "# stemmer \n",
    "- process of reducing a word to its word stem , that  affixes to suffixes and prefixes to the roots of the words"
   ]
  },
  {
   "cell_type": "code",
   "execution_count": 52,
   "id": "24e8b50c",
   "metadata": {},
   "outputs": [],
   "source": [
    "import nltk\n",
    "from nltk.stem import PorterStemmer\n",
    "from nltk.stem import SnowballStemmer\n",
    "from nltk.stem import RegexpStemmer"
   ]
  },
  {
   "cell_type": "code",
   "execution_count": 35,
   "id": "5b68bb34",
   "metadata": {},
   "outputs": [],
   "source": [
    "porter=PorterStemmer()\n",
    "snowball=SnowballStemmer(language='english')\n",
    "regexp=RegexpStemmer('ing$|s$|e$|able$', min=4)"
   ]
  },
  {
   "cell_type": "code",
   "execution_count": 70,
   "id": "51a4e597",
   "metadata": {},
   "outputs": [
    {
     "name": "stdout",
     "output_type": "stream",
     "text": [
      "lemmat is more sophist than stem "
     ]
    }
   ],
   "source": [
    "#apply on a word\n",
    "porter.stem('walking')\n",
    "#apply on a sentence\n",
    "sentence = \"Lemmatization is more sophisticated than stemming\".split()\n",
    "for word in sentence:\n",
    "    print(porter.stem(word),end=\" \")"
   ]
  },
  {
   "cell_type": "code",
   "execution_count": 37,
   "id": "f76821ea",
   "metadata": {},
   "outputs": [
    {
     "data": {
      "text/plain": [
       "'walk'"
      ]
     },
     "execution_count": 37,
     "metadata": {},
     "output_type": "execute_result"
    }
   ],
   "source": [
    "snowball.stem('walking')"
   ]
  },
  {
   "cell_type": "code",
   "execution_count": 38,
   "id": "9d6ba5ba",
   "metadata": {},
   "outputs": [
    {
     "data": {
      "text/plain": [
       "'walk'"
      ]
     },
     "execution_count": 38,
     "metadata": {},
     "output_type": "execute_result"
    }
   ],
   "source": [
    "regexp.stem('walking')"
   ]
  },
  {
   "cell_type": "markdown",
   "id": "368717a5",
   "metadata": {},
   "source": [
    "# lemmatization \n",
    "-convert the word to its root word(valid word)\n",
    "Stemming involves reducing words to their common root form by removing prefixes or suffixes, while lemmatization aims for a more accurate transformation by reducing words to their base or dictionary form, considering their meaning and context in natural language processing."
   ]
  },
  {
   "cell_type": "code",
   "execution_count": 57,
   "id": "9a0e02c0",
   "metadata": {},
   "outputs": [
    {
     "name": "stderr",
     "output_type": "stream",
     "text": [
      "[nltk_data] Downloading package wordnet to\n",
      "[nltk_data]     C:\\Users\\abdulsamad\\AppData\\Roaming\\nltk_data...\n",
      "[nltk_data]   Package wordnet is already up-to-date!\n",
      "[nltk_data] Downloading package omw-1.4 to\n",
      "[nltk_data]     C:\\Users\\abdulsamad\\AppData\\Roaming\\nltk_data...\n"
     ]
    },
    {
     "data": {
      "text/plain": [
       "True"
      ]
     },
     "execution_count": 57,
     "metadata": {},
     "output_type": "execute_result"
    }
   ],
   "source": [
    "import nltk\n",
    "from nltk.stem import WordNetLemmatizer\n",
    "from nltk.corpus import wordnet\n",
    "nltk.download('wordnet')\n",
    "nltk.download('omw-1.4')"
   ]
  },
  {
   "cell_type": "code",
   "execution_count": 58,
   "id": "b015da92",
   "metadata": {},
   "outputs": [],
   "source": [
    "lemmatizer=WordNetLemmatizer()"
   ]
  },
  {
   "cell_type": "code",
   "execution_count": 71,
   "id": "c4d6580a",
   "metadata": {},
   "outputs": [
    {
     "name": "stdout",
     "output_type": "stream",
     "text": [
      "Lemmatization be more sophisticate than stem "
     ]
    }
   ],
   "source": [
    "#apply on a word\n",
    "lemmatizer.lemmatize(\"going\",pos='v')\n",
    "lemmatizer.lemmatize(\"walking\",pos=wordnet.VERB)\n",
    "#apply on a sentence\n",
    "sentence = \"Lemmatization is more sophisticated than stemming\".split()\n",
    "for word in sentence:\n",
    "    print(lemmatizer.lemmatize(word,pos=wordnet.VERB),end=\" \")"
   ]
  },
  {
   "cell_type": "markdown",
   "id": "8e04cae6",
   "metadata": {},
   "source": [
    "# lemmatization vs pos_tag in nltk\n",
    "\n",
    "in order to properly use lemmatizer , we should apply pos_tagging first\n",
    "but nltk pos_tagging is not compatable with nltk WordNetLemmatizer \n",
    "thus we need to use another mapping function explicitely"
   ]
  },
  {
   "cell_type": "code",
   "execution_count": 79,
   "id": "33d74f2f",
   "metadata": {},
   "outputs": [],
   "source": [
    "def get_wordnet_pos(nltk_pos):\n",
    "    if nltk_pos.startswith('N'):\n",
    "        return wordnet.NOUN\n",
    "    elif nltk_pos.startswith('V'):\n",
    "        return wordnet.VERB\n",
    "    elif nltk_pos.startswith('J'):\n",
    "        return wordnet.ADJ\n",
    "    elif nltk_pos.startswith('R'):\n",
    "        return wordnet.ADV\n",
    "    else:\n",
    "        return wordnet.NOUN\n",
    "    "
   ]
  },
  {
   "cell_type": "code",
   "execution_count": 80,
   "id": "bdfe830d",
   "metadata": {},
   "outputs": [
    {
     "name": "stdout",
     "output_type": "stream",
     "text": [
      "Donald Trump have a devote following "
     ]
    },
    {
     "name": "stderr",
     "output_type": "stream",
     "text": [
      "[nltk_data] Downloading package averaged_perceptron_tagger to\n",
      "[nltk_data]     C:\\Users\\abdulsamad\\AppData\\Roaming\\nltk_data...\n",
      "[nltk_data]   Package averaged_perceptron_tagger is already up-to-\n",
      "[nltk_data]       date!\n"
     ]
    }
   ],
   "source": [
    "sentence = \"Donald Trump has a devoted following\".split()\n",
    "\n",
    "nltk.download('averaged_perceptron_tagger')\n",
    "pos_words_tags=nltk.pos_tag(sentence)\n",
    "\n",
    "for word,tag in pos_words_tags:\n",
    "    wordnet_tag = get_wordnet_pos(tag)\n",
    "    print(lemmatizer.lemmatize(word,pos=wordnet_tag),end=\" \")"
   ]
  },
  {
   "cell_type": "code",
   "execution_count": null,
   "id": "52abc428",
   "metadata": {},
   "outputs": [],
   "source": []
  }
 ],
 "metadata": {
  "kernelspec": {
   "display_name": "Python 3 (ipykernel)",
   "language": "python",
   "name": "python3"
  },
  "language_info": {
   "codemirror_mode": {
    "name": "ipython",
    "version": 3
   },
   "file_extension": ".py",
   "mimetype": "text/x-python",
   "name": "python",
   "nbconvert_exporter": "python",
   "pygments_lexer": "ipython3",
   "version": "3.11.3"
  }
 },
 "nbformat": 4,
 "nbformat_minor": 5
}
